{
 "cells": [
  {
   "cell_type": "code",
   "execution_count": 1,
   "metadata": {},
   "outputs": [],
   "source": [
    "from cassandra.cluster import Cluster"
   ]
  },
  {
   "cell_type": "code",
   "execution_count": 2,
   "metadata": {},
   "outputs": [],
   "source": [
    "def createKeySpace(KEYSPACE):\n",
    "    cluster = Cluster(contact_points=['127.0.0.1'], port=9042)\n",
    "    session = cluster.connect()\n",
    "    session.execute(\"\"\"\n",
    "                    CREATE KEYSPACE %s\n",
    "                    WITH replication = { 'class': 'SimpleStrategy',\n",
    "                    'replication_factor': '2' }\n",
    "                    \"\"\" % KEYSPACE)\n",
    "    session.set_keyspace(KEYSPACE)\n",
    "    session.execute(\"\"\"\n",
    "                    CREATE TABLE predictions (\n",
    "                    id int,\n",
    "                    file_name text,\n",
    "                    prediction int,\n",
    "                    time float,\n",
    "                    PRIMARY KEY (id, prediction)\n",
    "                    )\n",
    "                    \"\"\")\n",
    "    return session"
   ]
  },
  {
   "cell_type": "code",
   "execution_count": 3,
   "metadata": {},
   "outputs": [],
   "source": [
    "session = createKeySpace(\"mnist\")"
   ]
  },
  {
   "cell_type": "code",
   "execution_count": 6,
   "metadata": {},
   "outputs": [],
   "source": [
    "def insertData(session, id, file_name, prediction, time):\n",
    "    session.execute(\"\"\"\n",
    "                    INSERT INTO predictions (id, file_name, prediction, time)\n",
    "                    VALUES (%s, %s, %s, %s)\n",
    "                    \"\"\",\n",
    "                    (id, file_name, prediction, time)\n",
    "                    )"
   ]
  },
  {
   "cell_type": "code",
   "execution_count": 8,
   "metadata": {},
   "outputs": [],
   "source": [
    "insertData(session, 6, \"500.jpg\", 5, 77777.7777)\n",
    "insertData(session, 3, \"540.jpg\", 6, 4444.4444)"
   ]
  },
  {
   "cell_type": "code",
   "execution_count": 27,
   "metadata": {},
   "outputs": [],
   "source": [
    "def deleteData(session, id):\n",
    "    session.execute(\"\"\"\n",
    "                    DELETE FROM predictions \n",
    "                    WHERE id=%s;\n",
    "                    \"\"\",\n",
    "                    (id,)\n",
    "                    )"
   ]
  },
  {
   "cell_type": "code",
   "execution_count": 29,
   "metadata": {},
   "outputs": [],
   "source": [
    "deleteData(session, 6)"
   ]
  }
 ],
 "metadata": {
  "kernelspec": {
   "display_name": "Python 3",
   "language": "python",
   "name": "python3"
  },
  "language_info": {
   "codemirror_mode": {
    "name": "ipython",
    "version": 3
   },
   "file_extension": ".py",
   "mimetype": "text/x-python",
   "name": "python",
   "nbconvert_exporter": "python",
   "pygments_lexer": "ipython3",
   "version": "3.7.3"
  }
 },
 "nbformat": 4,
 "nbformat_minor": 2
}
